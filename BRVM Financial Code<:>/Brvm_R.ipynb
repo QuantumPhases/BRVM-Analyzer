{
 "cells": [
  {
   "cell_type": "code",
   "execution_count": null,
   "metadata": {
    "vscode": {
     "languageId": "r"
    }
   },
   "outputs": [],
   "source": [
    "library(BRVM)\n",
    "library(tidyverse)\n",
    "library(tibble)\n",
    "library(repr)\n",
    "library(dplyr)\n",
    "library(formattable)\n",
    "library(scales)\n",
    "library(readr)\n",
    "library(rvest)\n",
    "library(openxlsx)\n",
    "library(janitor)"
   ]
  },
  {
   "cell_type": "code",
   "execution_count": null,
   "metadata": {
    "vscode": {
     "languageId": "r"
    }
   },
   "outputs": [],
   "source": [
    "# Extract BRVM Info with BRVM_ticker_desc\n",
    "brvm_info <- BRVM_ticker_desc()\n",
    "\n",
    "# Extract tickers from ticker_info\n",
    "tickers <- brvm_info$Ticker"
   ]
  },
  {
   "cell_type": "code",
   "execution_count": null,
   "metadata": {
    "vscode": {
     "languageId": "r"
    }
   },
   "outputs": [],
   "source": [
    "# Retrieve BRVM information for the BRVM tickers\n",
    "brvm_info_list <- BRVM_get(.symbol = tickers, .from = \"2020-01-01\", .to = Sys.Date())"
   ]
  },
  {
   "cell_type": "code",
   "execution_count": null,
   "metadata": {
    "vscode": {
     "languageId": "r"
    }
   },
   "outputs": [],
   "source": [
    "# Merge the BRVM information retrieved for the specified tickers\n",
    "# with additional BRVM information based on the common column \"Ticker\"\n",
    "BRVM_frame <- merge(brvm_info_list, brvm_info, by = \"Ticker\")"
   ]
  },
  {
   "cell_type": "code",
   "execution_count": null,
   "metadata": {
    "vscode": {
     "languageId": "r"
    }
   },
   "outputs": [],
   "source": [
    "# Display a message indicating the process of loading BRVM Market Cap information\n",
    "cat(\"Loading BRVM Market Cap Info\\n\")\n",
    "\n",
    "# Load BRVM market cap data\n",
    "B_Market <- BRVM_cap()\n",
    "\n",
    "# Rename the columns\n",
    "B_Market <- B_Market %>%\n",
    "  rename(Ticker = Symbol,\n",
    "         `Market Cap` = `Global capitalization`,\n",
    "         `Market Percentage` = `Global capitalization (%)`) %>%\n",
    "  select(Ticker, `Market Cap`, `Market Percentage`)\n",
    "\n",
    "# Format the \"Market Cap\" column as currency\n",
    "B_Market$`Market Cap` <- currency(B_Market$`Market Cap`)\n",
    "\n",
    "# Sort the data frame by \"Market Cap\" column in descending order\n",
    "B_Market <- arrange(B_Market, desc(`Market Cap`))\n",
    "\n",
    "# Convert Market Percentage column to numeric\n",
    "B_Market <- B_Market %>%\n",
    "mutate(`Market Percentage` = as.numeric(`Market Percentage`))\n",
    "\n",
    "# Print the modified data\n",
    "print(B_Market)"
   ]
  },
  {
   "cell_type": "code",
   "execution_count": null,
   "metadata": {
    "vscode": {
     "languageId": "r"
    }
   },
   "outputs": [],
   "source": [
    "# Merge BRVM dataframes by Ticker\n",
    "BRVM_columns <- merge(BRVM_frame, B_Market, by = \"Ticker\") %>%\n",
    "\n",
    "# Rename Company name column to Company\n",
    "rename(Company = `Company name`) %>%\n",
    "\n",
    "# Select relevant columns for BRVM analysis\n",
    "select(Ticker,Sector, Company, Country, Date, Open, High, Low, Close, Volume, `Market Cap`, `Market Percentage`) %>%\n",
    "\n",
    "# Arrange data by Market Cap in descending order\n",
    "arrange(desc(`Market Cap`))\n",
    "\n",
    "glimpse(BRVM_columns)"
   ]
  },
  {
   "cell_type": "code",
   "execution_count": null,
   "metadata": {
    "vscode": {
     "languageId": "r"
    }
   },
   "outputs": [],
   "source": [
    "# Calculates the percentage difference between the \"Open\" and \"Close\" prices for each row in your dataframe\n",
    "\n",
    "BRVM_columns <- BRVM_columns %>%\n",
    "  mutate(Difference = round(((Close - Open) / Open) * 100, 2)) %>%\n",
    "  select(Ticker, Sector, Company, Country, Date, Open, High, Low, Close, Difference, Volume, `Market Cap`, `Market Percentage`)\n",
    "\n",
    "glimpse(BRVM_columns)\n"
   ]
  },
  {
   "cell_type": "code",
   "execution_count": null,
   "metadata": {
    "vscode": {
     "languageId": "r"
    }
   },
   "outputs": [],
   "source": [
    "# Sort dataframe in ascending order by a specific column\n",
    "BRVM_columns_asc <- arrange(BRVM_columns, Date)\n",
    "\n",
    "# Sort dataframe in descending order by a specific column\n",
    "BRVM_columns_desc <- arrange(BRVM_columns, desc(Date))"
   ]
  },
  {
   "cell_type": "code",
   "execution_count": null,
   "metadata": {
    "vscode": {
     "languageId": "r"
    }
   },
   "outputs": [],
   "source": [
    "# Sort dataframe in descending \n",
    "glimpse(BRVM_columns_desc)"
   ]
  },
  {
   "cell_type": "code",
   "execution_count": null,
   "metadata": {
    "vscode": {
     "languageId": "r"
    }
   },
   "outputs": [],
   "source": [
    "# Select the first 40 rows of BRVM_columns_desc to create Realtime_BRVM\n",
    "Realtime_BRVM <- head(BRVM_columns_desc, 40)\n",
    "\n",
    "cat('Realtime BRVM Data Columns')\n",
    "\n",
    "Realtime_BRVM"
   ]
  },
  {
   "cell_type": "code",
   "execution_count": null,
   "metadata": {
    "vscode": {
     "languageId": "r"
    }
   },
   "outputs": [],
   "source": [
    "# Retrieve BRVM index data and store it in brvm_sector\n",
    "brvm_sector <- BRVM_index()\n",
    "\n",
    "# Rename the column \"Indexes\" to \"Sector\" in the brvm_sector dataframe\n",
    "brvm_sector <- brvm_sector %>%\n",
    "  rename(Sector = Indexes)\n",
    "\n",
    "# Print a message indicating that BRVM Indexes are being loaded\n",
    "print(\"Loading BRVM Indexes\")\n",
    "\n",
    "# Print the brvm_sector dataframe\n",
    "brvm_sector"
   ]
  },
  {
   "cell_type": "code",
   "execution_count": null,
   "metadata": {
    "vscode": {
     "languageId": "r"
    }
   },
   "outputs": [],
   "source": [
    "BRVM_columns_desc$`Market Cap` <- as.numeric(gsub(\",\", \"\", BRVM_columns_desc$`Market Cap`))\n"
   ]
  },
  {
   "cell_type": "code",
   "execution_count": null,
   "metadata": {
    "vscode": {
     "languageId": "r"
    }
   },
   "outputs": [],
   "source": [
    "glimpse(BRVM_columns_desc)"
   ]
  },
  {
   "cell_type": "code",
   "execution_count": null,
   "metadata": {
    "vscode": {
     "languageId": "r"
    }
   },
   "outputs": [],
   "source": [
    "# Exporting DataFrame into an Excel file for BRVM Sectors\n",
    "\n",
    "# Write the DataFrame to an Excel file\n",
    "\n",
    "write.xlsx(brvm_sector, \"/Users/quantumsphere/Desktop/BRVM Project/BRVM-Analyzer/BRVM Excel R files/BRVM_Sectors.xlsx\", overwrite = TRUE)\n",
    "\n",
    "cat(\"New Excel file written successfully.\\n\")"
   ]
  },
  {
   "cell_type": "code",
   "execution_count": null,
   "metadata": {
    "vscode": {
     "languageId": "r"
    }
   },
   "outputs": [],
   "source": [
    "# Convert the Date column to character type\n",
    "Realtime_BRVM$Date <- as.character(Realtime_BRVM$Date)\n",
    "\n",
    "# Export the DataFrame to an Excel file\n",
    "write.xlsx(Realtime_BRVM, \"/Users/quantumsphere/Desktop/BRVM Project/BRVM-Analyzer/BRVM Excel R files/Realtime_BRVM.xlsx\", overwrite = TRUE)\n",
    "\n",
    "cat(\"New Excel file written successfully.\\n\")"
   ]
  },
  {
   "cell_type": "code",
   "execution_count": null,
   "metadata": {
    "vscode": {
     "languageId": "r"
    }
   },
   "outputs": [],
   "source": [
    "# Define the file path for the CSV file\n",
    "file_path <- \"/Users/quantumsphere/Desktop/BRVM Project/BRVM-Analyzer/BRVM Tableau R files/BRVM_Historical_TL.csv\"\n",
    "\n",
    "# Check if the file already exists\n",
    "if (file.exists(file_path)) {\n",
    "  # If the file exists, remove it\n",
    "  file.remove(file_path)\n",
    "\n",
    "  # Display message indicating the existing file is removed\n",
    "  cat(\"Existing file removed.\\n\")\n",
    "}\n",
    "\n",
    "# Write the new CSV file\n",
    "write.csv(BRVM_columns_desc, file = file_path, row.names = FALSE)\n",
    "\n",
    "# Display message indicating the new CSV file is written\n",
    "cat(\"New CSV file written successfully.\\n\")"
   ]
  }
 ],
 "metadata": {
  "kernelspec": {
   "display_name": "R",
   "language": "R",
   "name": "ir"
  },
  "language_info": {
   "codemirror_mode": "r",
   "file_extension": ".r",
   "mimetype": "text/x-r-source",
   "name": "R",
   "pygments_lexer": "r",
   "version": "4.3.3"
  }
 },
 "nbformat": 4,
 "nbformat_minor": 2
}
