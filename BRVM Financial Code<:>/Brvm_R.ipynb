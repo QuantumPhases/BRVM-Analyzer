{
 "cells": [
  {
   "cell_type": "code",
   "execution_count": 1,
   "metadata": {
    "vscode": {
     "languageId": "r"
    }
   },
   "outputs": [
    {
     "name": "stderr",
     "output_type": "stream",
     "text": [
      "Registered S3 method overwritten by 'quantmod':\n",
      "  method            from\n",
      "  as.zoo.data.frame zoo \n",
      "\n",
      "\n",
      "== Welcome to BRVM ================================================================\n",
      "If you find this package useful, please leave a star: \n",
      "   https://github.com/Koffi-Fredysessie/BRVM\n",
      "\n",
      "If you encounter a bug or want to request an enhancement please file an issue at:\n",
      "   https://github.com/Koffi-Fredysessie/BRVM/issues\n",
      "\n",
      "Thank you for using BRVM!\n",
      "\n",
      "\n",
      "-- \u001b[1mAttaching core tidyverse packages\u001b[22m ------------------------ tidyverse 2.0.0 --\n",
      "\u001b[32mv\u001b[39m \u001b[34mdplyr    \u001b[39m 1.1.4     \u001b[32mv\u001b[39m \u001b[34mreadr    \u001b[39m 2.1.5\n",
      "\u001b[32mv\u001b[39m \u001b[34mforcats  \u001b[39m 1.0.0     \u001b[32mv\u001b[39m \u001b[34mstringr  \u001b[39m 1.5.1\n",
      "\u001b[32mv\u001b[39m \u001b[34mggplot2  \u001b[39m 3.5.0     \u001b[32mv\u001b[39m \u001b[34mtibble   \u001b[39m 3.2.1\n",
      "\u001b[32mv\u001b[39m \u001b[34mlubridate\u001b[39m 1.9.3     \u001b[32mv\u001b[39m \u001b[34mtidyr    \u001b[39m 1.3.1\n",
      "\u001b[32mv\u001b[39m \u001b[34mpurrr    \u001b[39m 1.0.2     \n",
      "-- \u001b[1mConflicts\u001b[22m ------------------------------------------ tidyverse_conflicts() --\n",
      "\u001b[31mx\u001b[39m \u001b[34mdplyr\u001b[39m::\u001b[32mfilter()\u001b[39m masks \u001b[34mstats\u001b[39m::filter()\n",
      "\u001b[31mx\u001b[39m \u001b[34mdplyr\u001b[39m::\u001b[32mlag()\u001b[39m    masks \u001b[34mstats\u001b[39m::lag()\n",
      "\u001b[36mi\u001b[39m Use the conflicted package (\u001b[3m\u001b[34m<http://conflicted.r-lib.org/>\u001b[39m\u001b[23m) to force all conflicts to become errors\n",
      "\n",
      "Attaching package: 'scales'\n",
      "\n",
      "\n",
      "The following objects are masked from 'package:formattable':\n",
      "\n",
      "    comma, percent, scientific\n",
      "\n",
      "\n",
      "The following object is masked from 'package:purrr':\n",
      "\n",
      "    discard\n",
      "\n",
      "\n",
      "The following object is masked from 'package:readr':\n",
      "\n",
      "    col_factor\n",
      "\n",
      "\n",
      "\n",
      "Attaching package: 'rvest'\n",
      "\n",
      "\n",
      "The following object is masked from 'package:readr':\n",
      "\n",
      "    guess_encoding\n",
      "\n",
      "\n",
      "\n",
      "Attaching package: 'janitor'\n",
      "\n",
      "\n",
      "The following objects are masked from 'package:stats':\n",
      "\n",
      "    chisq.test, fisher.test\n",
      "\n",
      "\n"
     ]
    }
   ],
   "source": [
    "library(BRVM)\n",
    "library(tidyverse)\n",
    "library(tibble)\n",
    "library(repr)\n",
    "library(dplyr)\n",
    "library(formattable)\n",
    "library(scales)\n",
    "library(readr)\n",
    "library(rvest)\n",
    "library(openxlsx)\n",
    "library(janitor)"
   ]
  },
  {
   "cell_type": "code",
   "execution_count": 2,
   "metadata": {
    "vscode": {
     "languageId": "r"
    }
   },
   "outputs": [],
   "source": [
    "# Extract BRVM Info with BRVM_ticker_desc\n",
    "brvm_info <- BRVM_ticker_desc()\n",
    "\n",
    "# Extract tickers from ticker_info\n",
    "tickers <- brvm_info$Ticker"
   ]
  },
  {
   "cell_type": "code",
   "execution_count": 3,
   "metadata": {
    "vscode": {
     "languageId": "r"
    }
   },
   "outputs": [
    {
     "name": "stderr",
     "output_type": "stream",
     "text": [
      "ABJCBICCBNBCBOABBOABFBOACBOAMBOANBOASCABCCBIBFCFACCIECECOCETITFTSCNEICNSBCNTLCONTBFORACORGTPALCPRSCSAFCSCRCSDCCSDSCSEMCSGBCSHECSIBCSICCSIVCSLBCSMBCSNTSSOGCSPHCSTACSTBCSVOCTTLCTTLSUNLCUNXC\n",
      "\n"
     ]
    }
   ],
   "source": [
    "# Retrieve BRVM information for the BRVM tickers\n",
    "brvm_info_list <- BRVM_get(.symbol = tickers, .from = \"2020-01-01\", .to = Sys.Date() - 1)"
   ]
  },
  {
   "cell_type": "code",
   "execution_count": 4,
   "metadata": {
    "vscode": {
     "languageId": "r"
    }
   },
   "outputs": [],
   "source": [
    "# Merge the BRVM information retrieved for the specified tickers\n",
    "# with additional BRVM information based on the common column \"Ticker\"\n",
    "BRVM_frame <- merge(brvm_info_list, brvm_info, by = \"Ticker\")"
   ]
  },
  {
   "cell_type": "code",
   "execution_count": 7,
   "metadata": {
    "vscode": {
     "languageId": "r"
    }
   },
   "outputs": [
    {
     "name": "stdout",
     "output_type": "stream",
     "text": [
      "Loading BRVM Market Cap Info\n",
      "\u001b[90m# A tibble: 47 x 3\u001b[39m\n",
      "   Ticker `Market Cap`      `Market Percentage`\n",
      "   \u001b[3m\u001b[90m<chr>\u001b[39m\u001b[23m  \u001b[3m\u001b[90m<formttbl>\u001b[39m\u001b[23m                      \u001b[3m\u001b[90m<dbl>\u001b[39m\u001b[23m\n",
      "\u001b[90m 1\u001b[39m SNTS   1,789,500,000,000               22.5 \n",
      "\u001b[90m 2\u001b[39m ORAC   1,625,571,226,500               20.5 \n",
      "\u001b[90m 3\u001b[39m SGBC   549,422,202,600                  6.92\n",
      "\u001b[90m 4\u001b[39m ECOC   373,793,574,000                  4.71\n",
      "\u001b[90m 5\u001b[39m ETIT   325,513,920,996                  4.1 \n",
      "\u001b[90m 6\u001b[39m SIBC   283,250,000,000                  3.57\n",
      "\u001b[90m 7\u001b[39m CBIBF  280,000,000,000                  3.53\n",
      "\u001b[90m 8\u001b[39m BOABF  160,380,000,000                  2.02\n",
      "\u001b[90m 9\u001b[39m ORGT   152,713,068,200                  1.92\n",
      "\u001b[90m10\u001b[39m ONTBF  150,960,000,000                  1.9 \n",
      "\u001b[90m# i 37 more rows\u001b[39m\n"
     ]
    }
   ],
   "source": [
    "# Display a message indicating the process of loading BRVM Market Cap information\n",
    "cat(\"Loading BRVM Market Cap Info\\n\")\n",
    "\n",
    "# Load BRVM market cap data\n",
    "B_Market <- BRVM_cap()\n",
    "\n",
    "# Rename the columns\n",
    "B_Market <- B_Market %>%\n",
    "  rename(Ticker = Symbol,\n",
    "         `Market Cap` = `Global capitalization`,\n",
    "         `Market Percentage` = `Global capitalization (%)`) %>%\n",
    "  select(Ticker, `Market Cap`, `Market Percentage`)\n",
    "\n",
    "# Format the \"Market Cap\" column as currency\n",
    "B_Market$`Market Cap` <- currency(B_Market$`Market Cap`)\n",
    "\n",
    "# Sort the data frame by \"Market Cap\" column in descending order\n",
    "B_Market <- arrange(B_Market, desc(`Market Cap`))\n",
    "\n",
    "# Convert Market Percentage column to numeric\n",
    "B_Market <- B_Market %>%\n",
    "mutate(`Market Percentage` = as.numeric(`Market Percentage`))\n",
    "\n",
    "# Calculate percentage\n",
    "B_Market$`Market Percentage` <- as.numeric(B_Market$`Market Percentage`)\n",
    "\n",
    "# Print the modified data\n",
    "print(B_Market)"
   ]
  },
  {
   "cell_type": "code",
   "execution_count": 8,
   "metadata": {
    "vscode": {
     "languageId": "r"
    }
   },
   "outputs": [
    {
     "name": "stdout",
     "output_type": "stream",
     "text": [
      "Rows: 41,665\n",
      "Columns: 12\n",
      "$ Ticker              \u001b[3m\u001b[90m<chr>\u001b[39m\u001b[23m \"SNTS\", \"SNTS\", \"SNTS\", \"SNTS\", \"SNTS\", \"SNTS\", \"S~\n",
      "$ Sector              \u001b[3m\u001b[90m<fct>\u001b[39m\u001b[23m PUBLIC SERVICE, PUBLIC SERVICE, PUBLIC SERVICE, PU~\n",
      "$ Company             \u001b[3m\u001b[90m<chr>\u001b[39m\u001b[23m \"SONATEL SENEGAL\", \"SONATEL SENEGAL\", \"SONATEL SEN~\n",
      "$ Country             \u001b[3m\u001b[90m<fct>\u001b[39m\u001b[23m SENEGAL, SENEGAL, SENEGAL, SENEGAL, SENEGAL, SENEG~\n",
      "$ Date                \u001b[3m\u001b[90m<date>\u001b[39m\u001b[23m 2020-01-02, 2020-01-03, 2020-01-06, 2020-01-07, 2~\n",
      "$ Open                \u001b[3m\u001b[90m<dbl>\u001b[39m\u001b[23m 16500, 16500, 16695, 16005, 16000, 15000, 15010, 1~\n",
      "$ High                \u001b[3m\u001b[90m<dbl>\u001b[39m\u001b[23m 16900, 16800, 16695, 16495, 16000, 15500, 15500, 1~\n",
      "$ Low                 \u001b[3m\u001b[90m<dbl>\u001b[39m\u001b[23m 16500, 16500, 16500, 15995, 15000, 14995, 15010, 1~\n",
      "$ Close               \u001b[3m\u001b[90m<dbl>\u001b[39m\u001b[23m 16900, 16800, 16500, 16000, 15000, 15500, 15500, 1~\n",
      "$ Volume              \u001b[3m\u001b[90m<dbl>\u001b[39m\u001b[23m 497, 26, 222, 831, 2846, 24709, 18647, 69461, 3453~\n",
      "$ `Market Cap`        \u001b[3m\u001b[90m<formttbl>\u001b[39m\u001b[23m 1,789,500,000,000, 1,789,500,000,000, 1,789,5~\n",
      "$ `Market Percentage` \u001b[3m\u001b[90m<dbl>\u001b[39m\u001b[23m 22.54, 22.54, 22.54, 22.54, 22.54, 22.54, 22.54, 2~\n"
     ]
    }
   ],
   "source": [
    "# Merge BRVM dataframes by Ticker\n",
    "BRVM_columns <- merge(BRVM_frame, B_Market, by = \"Ticker\") %>%\n",
    "\n",
    "# Rename Company name column to Company\n",
    "rename(Company = `Company name`) %>%\n",
    "\n",
    "# Select relevant columns for BRVM analysis\n",
    "select(Ticker,Sector, Company, Country, Date, Open, High, Low, Close, Volume, `Market Cap`, `Market Percentage`) %>%\n",
    "\n",
    "# Arrange data by Market Cap in descending order\n",
    "arrange(desc(`Market Cap`))\n",
    "\n",
    "glimpse(BRVM_columns)"
   ]
  },
  {
   "cell_type": "code",
   "execution_count": 9,
   "metadata": {
    "vscode": {
     "languageId": "r"
    }
   },
   "outputs": [],
   "source": [
    "# Sort dataframe in ascending order by a specific column\n",
    "BRVM_columns_asc <- arrange(BRVM_columns, Date)\n",
    "\n",
    "# Sort dataframe in descending order by a specific column\n",
    "BRVM_columns_desc <- arrange(BRVM_columns, desc(Date))"
   ]
  },
  {
   "cell_type": "code",
   "execution_count": 10,
   "metadata": {
    "vscode": {
     "languageId": "r"
    }
   },
   "outputs": [
    {
     "name": "stdout",
     "output_type": "stream",
     "text": [
      "Rows: 41,665\n",
      "Columns: 12\n",
      "$ Ticker              \u001b[3m\u001b[90m<chr>\u001b[39m\u001b[23m \"SNTS\", \"ORAC\", \"SGBC\", \"ECOC\", \"ETIT\", \"SIBC\", \"C~\n",
      "$ Sector              \u001b[3m\u001b[90m<fct>\u001b[39m\u001b[23m PUBLIC SERVICE, PUBLIC SERVICE, FINANCE, FINANCE, ~\n",
      "$ Company             \u001b[3m\u001b[90m<chr>\u001b[39m\u001b[23m \"SONATEL SENEGAL\", \"ORANGE COTE D'IVOIRE\", \"SOCIET~\n",
      "$ Country             \u001b[3m\u001b[90m<fct>\u001b[39m\u001b[23m SENEGAL, IVORY COAST, IVORY COAST, IVORY COAST, TO~\n",
      "$ Date                \u001b[3m\u001b[90m<date>\u001b[39m\u001b[23m 2024-03-20, 2024-03-20, 2024-03-20, 2024-03-20, 2~\n",
      "$ Open                \u001b[3m\u001b[90m<dbl>\u001b[39m\u001b[23m 17850, 10800, 17650, 6800, 18, 5790, 8665, 7295, 2~\n",
      "$ High                \u001b[3m\u001b[90m<dbl>\u001b[39m\u001b[23m 17885, 10800, 17750, 6800, 18, 5790, 8750, 7300, 2~\n",
      "$ Low                 \u001b[3m\u001b[90m<dbl>\u001b[39m\u001b[23m 17860, 10750, 17650, 6700, 17, 5600, 8665, 7200, 2~\n",
      "$ Close               \u001b[3m\u001b[90m<dbl>\u001b[39m\u001b[23m 17885, 10750, 17700, 6780, 18, 5780, 8700, 7295, 2~\n",
      "$ Volume              \u001b[3m\u001b[90m<dbl>\u001b[39m\u001b[23m 1834, 1563, 469, 1342, 21960, 446, 62, 678, 252, 1~\n",
      "$ `Market Cap`        \u001b[3m\u001b[90m<formttbl>\u001b[39m\u001b[23m 1,789,500,000,000, 1,625,571,226,500, 549,422~\n",
      "$ `Market Percentage` \u001b[3m\u001b[90m<dbl>\u001b[39m\u001b[23m 22.54, 20.47, 6.92, 4.71, 4.10, 3.57, 3.53, 2.02, ~\n"
     ]
    }
   ],
   "source": [
    "# Sort dataframe in descending \n",
    "glimpse(BRVM_columns_desc)"
   ]
  },
  {
   "cell_type": "code",
   "execution_count": 35,
   "metadata": {
    "vscode": {
     "languageId": "r"
    }
   },
   "outputs": [
    {
     "name": "stdout",
     "output_type": "stream",
     "text": [
      "Realtime BRVM Data Columns"
     ]
    },
    {
     "data": {
      "text/html": [
       "<table class=\"dataframe\">\n",
       "<caption>A data.frame: 39 x 12</caption>\n",
       "<thead>\n",
       "\t<tr><th></th><th scope=col>Ticker</th><th scope=col>Sector</th><th scope=col>Company</th><th scope=col>Country</th><th scope=col>Date</th><th scope=col>Open</th><th scope=col>High</th><th scope=col>Low</th><th scope=col>Close</th><th scope=col>Volume</th><th scope=col>Market Cap</th><th scope=col>Market Percentage</th></tr>\n",
       "\t<tr><th></th><th scope=col>&lt;chr&gt;</th><th scope=col>&lt;fct&gt;</th><th scope=col>&lt;chr&gt;</th><th scope=col>&lt;fct&gt;</th><th scope=col>&lt;date&gt;</th><th scope=col>&lt;dbl&gt;</th><th scope=col>&lt;dbl&gt;</th><th scope=col>&lt;dbl&gt;</th><th scope=col>&lt;dbl&gt;</th><th scope=col>&lt;dbl&gt;</th><th scope=col>&lt;formttbl&gt;</th><th scope=col>&lt;dbl&gt;</th></tr>\n",
       "</thead>\n",
       "<tbody>\n",
       "\t<tr><th scope=row>1</th><td>SNTS </td><td>PUBLIC SERVICE</td><td>SONATEL SENEGAL                            </td><td>SENEGAL     </td><td>2024-03-20</td><td>17850</td><td>17885</td><td>17860</td><td>17885</td><td> 1834</td><td>1,789,500,000,000</td><td>22.54</td></tr>\n",
       "\t<tr><th scope=row>2</th><td>ORAC </td><td>PUBLIC SERVICE</td><td>ORANGE COTE D'IVOIRE                       </td><td>IVORY COAST </td><td>2024-03-20</td><td>10800</td><td>10800</td><td>10750</td><td>10750</td><td> 1563</td><td>1,625,571,226,500</td><td>20.47</td></tr>\n",
       "\t<tr><th scope=row>3</th><td>SGBC </td><td>FINANCE       </td><td>SOCIETE GENERALE COTE D'IVOIRE             </td><td>IVORY COAST </td><td>2024-03-20</td><td>17650</td><td>17750</td><td>17650</td><td>17700</td><td>  469</td><td>549,422,202,600</td><td> 6.92</td></tr>\n",
       "\t<tr><th scope=row>4</th><td>ECOC </td><td>FINANCE       </td><td>ECOBANK COTE D'IVOIRE                      </td><td>IVORY COAST </td><td>2024-03-20</td><td> 6800</td><td> 6800</td><td> 6700</td><td> 6780</td><td> 1342</td><td>373,793,574,000</td><td> 4.71</td></tr>\n",
       "\t<tr><th scope=row>5</th><td>ETIT </td><td>FINANCE       </td><td>Ecobank Transnational Incorporated TOGO    </td><td>TOGO        </td><td>2024-03-20</td><td>   18</td><td>   18</td><td>   17</td><td>   18</td><td>21960</td><td>325,513,920,996</td><td> 4.10</td></tr>\n",
       "\t<tr><th scope=row>6</th><td>SIBC </td><td>FINANCE       </td><td>SOCIETE IVOIRIENNE DE BANQUE COTE D'IVOIRE </td><td>IVORY COAST </td><td>2024-03-20</td><td> 5790</td><td> 5790</td><td> 5600</td><td> 5780</td><td>  446</td><td>283,250,000,000</td><td> 3.57</td></tr>\n",
       "\t<tr><th scope=row>7</th><td>CBIBF</td><td>FINANCE       </td><td>CORIS BANK INTERNATIONAL BURKINA FASO      </td><td>BURKINA FASO</td><td>2024-03-20</td><td> 8665</td><td> 8750</td><td> 8665</td><td> 8700</td><td>   62</td><td>280,000,000,000</td><td> 3.53</td></tr>\n",
       "\t<tr><th scope=row>8</th><td>BOABF</td><td>FINANCE       </td><td>BANK OF AFRICA BURKINA FASO                </td><td>BURKINA FASO</td><td>2024-03-20</td><td> 7295</td><td> 7300</td><td> 7200</td><td> 7295</td><td>  678</td><td>160,380,000,000</td><td> 2.02</td></tr>\n",
       "\t<tr><th scope=row>9</th><td>ORGT </td><td>FINANCE       </td><td>ORAGROUP TOGO                              </td><td>TOGO        </td><td>2024-03-20</td><td> 2200</td><td> 2295</td><td> 2200</td><td> 2200</td><td>  252</td><td>152,713,068,200</td><td> 1.92</td></tr>\n",
       "\t<tr><th scope=row>10</th><td>ONTBF</td><td>PUBLIC SERVICE</td><td>ONATEL BURKINA FASO                        </td><td>BURKINA FASO</td><td>2024-03-20</td><td> 2115</td><td> 2220</td><td> 2100</td><td> 2210</td><td>17611</td><td>150,960,000,000</td><td> 1.90</td></tr>\n",
       "\t<tr><th scope=row>11</th><td>NTLC </td><td>INDUSTRY      </td><td>NESTLE COTE D'IVOIRE                       </td><td>IVORY COAST </td><td>2024-03-20</td><td> 6770</td><td> 6770</td><td> 6560</td><td> 6770</td><td>   32</td><td>149,195,904,000</td><td> 1.88</td></tr>\n",
       "\t<tr><th scope=row>12</th><td>CFAC </td><td>DISTRIBUTION  </td><td>CFAO MOTORS COTE D'IVOIRE                  </td><td>IVORY COAST </td><td>2024-03-20</td><td>  790</td><td>  800</td><td>  790</td><td>  800</td><td>  618</td><td>145,097,520,000</td><td> 1.83</td></tr>\n",
       "\t<tr><th scope=row>13</th><td>BOAC </td><td>FINANCE       </td><td>BANK OF AFRICA COTE D'IVOIRE               </td><td>IVORY COAST </td><td>2024-03-20</td><td> 7290</td><td> 7300</td><td> 7200</td><td> 7300</td><td> 1501</td><td>143,600,000,000</td><td> 1.81</td></tr>\n",
       "\t<tr><th scope=row>14</th><td>NSBC </td><td>FINANCE       </td><td>NSIA BANQUE COTE D'IVOIRE                  </td><td>IVORY COAST </td><td>2024-03-20</td><td> 5370</td><td> 5600</td><td> 5345</td><td> 5600</td><td>  622</td><td>133,566,688,800</td><td> 1.68</td></tr>\n",
       "\t<tr><th scope=row>15</th><td>BOAB </td><td>FINANCE       </td><td>BANK OF AFRICA BENIN                       </td><td>BENIN       </td><td>2024-03-20</td><td> 6450</td><td> 6455</td><td> 6310</td><td> 6455</td><td> 4369</td><td>131,722,003,380</td><td> 1.66</td></tr>\n",
       "\t<tr><th scope=row>16</th><td>STBC </td><td>INDUSTRY      </td><td>SITAB COTE D'IVOIRE                        </td><td>IVORY COAST </td><td>2024-03-20</td><td> 6980</td><td> 6980</td><td> 6980</td><td> 6980</td><td>    8</td><td>125,236,125,000</td><td> 1.58</td></tr>\n",
       "\t<tr><th scope=row>17</th><td>BICC </td><td>FINANCE       </td><td>BICI COTE D'IVOIRE                         </td><td>IVORY COAST </td><td>2024-03-20</td><td> 7295</td><td> 7350</td><td> 7300</td><td> 7300</td><td>  133</td><td>122,500,024,500</td><td> 1.54</td></tr>\n",
       "\t<tr><th scope=row>18</th><td>PALC </td><td>AGRICULTURE   </td><td>PALM COTE D'IVOIRE                         </td><td>IVORY COAST </td><td>2024-03-20</td><td> 6985</td><td> 7000</td><td> 6900</td><td> 7000</td><td> 1344</td><td>108,215,212,000</td><td> 1.36</td></tr>\n",
       "\t<tr><th scope=row>19</th><td>TTLC </td><td>DISTRIBUTION  </td><td>TOTAL COTE D'IVOIRE                        </td><td>IVORY COAST </td><td>2024-03-20</td><td> 1705</td><td> 1705</td><td> 1655</td><td> 1705</td><td>  391</td><td>107,034,720,000</td><td> 1.35</td></tr>\n",
       "\t<tr><th scope=row>20</th><td>CIEC </td><td>PUBLIC SERVICE</td><td>CIE COTE D'IVOIRE                          </td><td>IVORY COAST </td><td>2024-03-20</td><td> 1650</td><td> 1695</td><td> 1600</td><td> 1600</td><td>42010</td><td>89,600,000,000</td><td> 1.13</td></tr>\n",
       "\t<tr><th scope=row>21</th><td>SDSC </td><td><span style=white-space:pre-wrap>TRANSPORT     </span></td><td>BOLLORE TRANSPORT &amp; LOGISTICS COTE D'IVOIRE</td><td>IVORY COAST </td><td>2024-03-20</td><td> 1525</td><td> 1530</td><td> 1500</td><td> 1530</td><td>20960</td><td>84,102,538,500</td><td> 1.06</td></tr>\n",
       "\t<tr><th scope=row>22</th><td>SOGC </td><td>AGRICULTURE   </td><td>SOGB COTE D'IVOIRE                         </td><td>IVORY COAST </td><td>2024-03-20</td><td> 3890</td><td> 4000</td><td> 3740</td><td> 3890</td><td> 1032</td><td>83,923,148,400</td><td> 1.06</td></tr>\n",
       "\t<tr><th scope=row>23</th><td>SMBC </td><td>INDUSTRY      </td><td>SMB COTE D'IVOIRE                          </td><td>IVORY COAST </td><td>2024-03-20</td><td>10295</td><td>10295</td><td>10260</td><td>10270</td><td>   55</td><td>80,095,680,000</td><td> 1.01</td></tr>\n",
       "\t<tr><th scope=row>24</th><td>BOAN </td><td>FINANCE       </td><td>BANK OF AFRICA NIGER                       </td><td>NIGER       </td><td>2024-03-20</td><td> 5775</td><td> 5790</td><td> 5600</td><td> 5790</td><td> 8578</td><td>75,335,000,000</td><td> 0.95</td></tr>\n",
       "\t<tr><th scope=row>25</th><td>BOAS </td><td>FINANCE       </td><td>BANK OF AFRICA SENEGAL                     </td><td>SENEGAL     </td><td>2024-03-20</td><td> 3200</td><td> 3295</td><td> 3200</td><td> 3295</td><td> 1600</td><td>74,040,000,000</td><td> 0.93</td></tr>\n",
       "\t<tr><th scope=row>26</th><td>TTLS </td><td>DISTRIBUTION  </td><td>TOTAL SENEGAL                              </td><td>SENEGAL     </td><td>2024-03-20</td><td> 2280</td><td> 2300</td><td> 2280</td><td> 2280</td><td>  279</td><td>73,299,825,000</td><td> 0.92</td></tr>\n",
       "\t<tr><th scope=row>27</th><td>SPHC </td><td>AGRICULTURE   </td><td>SAPH COTE D'IVOIRE                         </td><td>IVORY COAST </td><td>2024-03-20</td><td> 2400</td><td> 2450</td><td> 2400</td><td> 2445</td><td>  171</td><td>61,339,212,000</td><td> 0.77</td></tr>\n",
       "\t<tr><th scope=row>28</th><td>SHEC </td><td>DISTRIBUTION  </td><td>VIVO ENERGY COTE D'IVOIRE                  </td><td>IVORY COAST </td><td>2024-03-20</td><td>  765</td><td>  770</td><td>  765</td><td>  770</td><td>  514</td><td>50,400,000,000</td><td> 0.63</td></tr>\n",
       "\t<tr><th scope=row>29</th><td>SDCC </td><td>PUBLIC SERVICE</td><td>SODE COTE D'IVOIRE                         </td><td>IVORY COAST </td><td>2024-03-20</td><td> 4400</td><td> 4400</td><td> 4390</td><td> 4395</td><td>  342</td><td>39,555,000,000</td><td> 0.50</td></tr>\n",
       "\t<tr><th scope=row>30</th><td>BOAM </td><td>FINANCE       </td><td>BANK OF AFRICA MALI                        </td><td>MALI        </td><td>2024-03-20</td><td> 1460</td><td> 1465</td><td> 1460</td><td> 1465</td><td>  504</td><td>27,358,500,000</td><td> 0.34</td></tr>\n",
       "\t<tr><th scope=row>31</th><td>FTSC </td><td>INDUSTRY      </td><td>FILTISAC COTE D'IVOIRE                     </td><td>IVORY COAST </td><td>2024-03-20</td><td> 1940</td><td> 1940</td><td> 1850</td><td> 1900</td><td>  289</td><td>26,797,106,000</td><td> 0.34</td></tr>\n",
       "\t<tr><th scope=row>32</th><td>PRSC </td><td>DISTRIBUTION  </td><td>TRACTAFRIC MOTORS COTE D'IVOIRE            </td><td>IVORY COAST </td><td>2024-03-20</td><td> 1905</td><td> 1945</td><td> 1810</td><td> 1945</td><td>   12</td><td>20,480,000,000</td><td> 0.26</td></tr>\n",
       "\t<tr><th scope=row>33</th><td>ABJC </td><td>DISTRIBUTION  </td><td>SERVAIR ABIDJAN  COTE D'IVOIRE             </td><td>IVORY COAST </td><td>2024-03-20</td><td> 1285</td><td> 1285</td><td> 1285</td><td> 1285</td><td>  258</td><td>13,967,360,000</td><td> 0.18</td></tr>\n",
       "\t<tr><th scope=row>34</th><td>UNXC </td><td>INDUSTRY      </td><td>UNIWAX COTE D'IVOIRE                       </td><td>IVORY COAST </td><td>2024-03-20</td><td>  535</td><td>  535</td><td>  530</td><td>  535</td><td>  389</td><td>11,101,250,000</td><td> 0.14</td></tr>\n",
       "\t<tr><th scope=row>35</th><td>SCRC </td><td>AGRICULTURE   </td><td>SUCRIVOIRE COTE D'IVOIRE                   </td><td>IVORY COAST </td><td>2024-03-20</td><td>  445</td><td>  445</td><td>  440</td><td>  440</td><td>   94</td><td>8,820,000,000</td><td> 0.11</td></tr>\n",
       "\t<tr><th scope=row>36</th><td>NEIC </td><td>INDUSTRY      </td><td>NEI-CEDA COTE D'IVOIRE                     </td><td>IVORY COAST </td><td>2024-03-20</td><td>  610</td><td>  670</td><td>  610</td><td>  670</td><td> 2938</td><td>8,553,102,750</td><td> 0.11</td></tr>\n",
       "\t<tr><th scope=row>37</th><td>BNBC </td><td>DISTRIBUTION  </td><td>BERNABE COTE D'IVOIRE                      </td><td>IVORY COAST </td><td>2024-03-20</td><td> 1225</td><td> 1225</td><td> 1225</td><td> 1225</td><td>    1</td><td>8,147,520,000</td><td> 0.10</td></tr>\n",
       "\t<tr><th scope=row>38</th><td>CABC </td><td>INDUSTRY      </td><td>SICABLE COTE D'IVOIRE                      </td><td>IVORY COAST </td><td>2024-03-20</td><td> 1025</td><td> 1025</td><td> 1015</td><td> 1025</td><td>  420</td><td>6,393,600,000</td><td> 0.08</td></tr>\n",
       "\t<tr><th scope=row>39</th><td>SICC </td><td>AGRICULTURE   </td><td>SICOR COTE D'IVOIRE                        </td><td>IVORY COAST </td><td>2024-03-20</td><td> 3650</td><td> 3650</td><td> 3650</td><td> 3650</td><td>   55</td><td>2,190,000,000</td><td> 0.03</td></tr>\n",
       "</tbody>\n",
       "</table>\n"
      ],
      "text/latex": [
       "A data.frame: 39 x 12\n",
       "\\begin{tabular}{r|llllllllllll}\n",
       "  & Ticker & Sector & Company & Country & Date & Open & High & Low & Close & Volume & Market Cap & Market Percentage\\\\\n",
       "  & <chr> & <fct> & <chr> & <fct> & <date> & <dbl> & <dbl> & <dbl> & <dbl> & <dbl> & <formttbl> & <dbl>\\\\\n",
       "\\hline\n",
       "\t1 & SNTS  & PUBLIC SERVICE & SONATEL SENEGAL                             & SENEGAL      & 2024-03-20 & 17850 & 17885 & 17860 & 17885 &  1834 & 1,789,500,000,000 & 22.54\\\\\n",
       "\t2 & ORAC  & PUBLIC SERVICE & ORANGE COTE D'IVOIRE                        & IVORY COAST  & 2024-03-20 & 10800 & 10800 & 10750 & 10750 &  1563 & 1,625,571,226,500 & 20.47\\\\\n",
       "\t3 & SGBC  & FINANCE        & SOCIETE GENERALE COTE D'IVOIRE              & IVORY COAST  & 2024-03-20 & 17650 & 17750 & 17650 & 17700 &   469 & 549,422,202,600 &  6.92\\\\\n",
       "\t4 & ECOC  & FINANCE        & ECOBANK COTE D'IVOIRE                       & IVORY COAST  & 2024-03-20 &  6800 &  6800 &  6700 &  6780 &  1342 & 373,793,574,000 &  4.71\\\\\n",
       "\t5 & ETIT  & FINANCE        & Ecobank Transnational Incorporated TOGO     & TOGO         & 2024-03-20 &    18 &    18 &    17 &    18 & 21960 & 325,513,920,996 &  4.10\\\\\n",
       "\t6 & SIBC  & FINANCE        & SOCIETE IVOIRIENNE DE BANQUE COTE D'IVOIRE  & IVORY COAST  & 2024-03-20 &  5790 &  5790 &  5600 &  5780 &   446 & 283,250,000,000 &  3.57\\\\\n",
       "\t7 & CBIBF & FINANCE        & CORIS BANK INTERNATIONAL BURKINA FASO       & BURKINA FASO & 2024-03-20 &  8665 &  8750 &  8665 &  8700 &    62 & 280,000,000,000 &  3.53\\\\\n",
       "\t8 & BOABF & FINANCE        & BANK OF AFRICA BURKINA FASO                 & BURKINA FASO & 2024-03-20 &  7295 &  7300 &  7200 &  7295 &   678 & 160,380,000,000 &  2.02\\\\\n",
       "\t9 & ORGT  & FINANCE        & ORAGROUP TOGO                               & TOGO         & 2024-03-20 &  2200 &  2295 &  2200 &  2200 &   252 & 152,713,068,200 &  1.92\\\\\n",
       "\t10 & ONTBF & PUBLIC SERVICE & ONATEL BURKINA FASO                         & BURKINA FASO & 2024-03-20 &  2115 &  2220 &  2100 &  2210 & 17611 & 150,960,000,000 &  1.90\\\\\n",
       "\t11 & NTLC  & INDUSTRY       & NESTLE COTE D'IVOIRE                        & IVORY COAST  & 2024-03-20 &  6770 &  6770 &  6560 &  6770 &    32 & 149,195,904,000 &  1.88\\\\\n",
       "\t12 & CFAC  & DISTRIBUTION   & CFAO MOTORS COTE D'IVOIRE                   & IVORY COAST  & 2024-03-20 &   790 &   800 &   790 &   800 &   618 & 145,097,520,000 &  1.83\\\\\n",
       "\t13 & BOAC  & FINANCE        & BANK OF AFRICA COTE D'IVOIRE                & IVORY COAST  & 2024-03-20 &  7290 &  7300 &  7200 &  7300 &  1501 & 143,600,000,000 &  1.81\\\\\n",
       "\t14 & NSBC  & FINANCE        & NSIA BANQUE COTE D'IVOIRE                   & IVORY COAST  & 2024-03-20 &  5370 &  5600 &  5345 &  5600 &   622 & 133,566,688,800 &  1.68\\\\\n",
       "\t15 & BOAB  & FINANCE        & BANK OF AFRICA BENIN                        & BENIN        & 2024-03-20 &  6450 &  6455 &  6310 &  6455 &  4369 & 131,722,003,380 &  1.66\\\\\n",
       "\t16 & STBC  & INDUSTRY       & SITAB COTE D'IVOIRE                         & IVORY COAST  & 2024-03-20 &  6980 &  6980 &  6980 &  6980 &     8 & 125,236,125,000 &  1.58\\\\\n",
       "\t17 & BICC  & FINANCE        & BICI COTE D'IVOIRE                          & IVORY COAST  & 2024-03-20 &  7295 &  7350 &  7300 &  7300 &   133 & 122,500,024,500 &  1.54\\\\\n",
       "\t18 & PALC  & AGRICULTURE    & PALM COTE D'IVOIRE                          & IVORY COAST  & 2024-03-20 &  6985 &  7000 &  6900 &  7000 &  1344 & 108,215,212,000 &  1.36\\\\\n",
       "\t19 & TTLC  & DISTRIBUTION   & TOTAL COTE D'IVOIRE                         & IVORY COAST  & 2024-03-20 &  1705 &  1705 &  1655 &  1705 &   391 & 107,034,720,000 &  1.35\\\\\n",
       "\t20 & CIEC  & PUBLIC SERVICE & CIE COTE D'IVOIRE                           & IVORY COAST  & 2024-03-20 &  1650 &  1695 &  1600 &  1600 & 42010 & 89,600,000,000 &  1.13\\\\\n",
       "\t21 & SDSC  & TRANSPORT      & BOLLORE TRANSPORT \\& LOGISTICS COTE D'IVOIRE & IVORY COAST  & 2024-03-20 &  1525 &  1530 &  1500 &  1530 & 20960 & 84,102,538,500 &  1.06\\\\\n",
       "\t22 & SOGC  & AGRICULTURE    & SOGB COTE D'IVOIRE                          & IVORY COAST  & 2024-03-20 &  3890 &  4000 &  3740 &  3890 &  1032 & 83,923,148,400 &  1.06\\\\\n",
       "\t23 & SMBC  & INDUSTRY       & SMB COTE D'IVOIRE                           & IVORY COAST  & 2024-03-20 & 10295 & 10295 & 10260 & 10270 &    55 & 80,095,680,000 &  1.01\\\\\n",
       "\t24 & BOAN  & FINANCE        & BANK OF AFRICA NIGER                        & NIGER        & 2024-03-20 &  5775 &  5790 &  5600 &  5790 &  8578 & 75,335,000,000 &  0.95\\\\\n",
       "\t25 & BOAS  & FINANCE        & BANK OF AFRICA SENEGAL                      & SENEGAL      & 2024-03-20 &  3200 &  3295 &  3200 &  3295 &  1600 & 74,040,000,000 &  0.93\\\\\n",
       "\t26 & TTLS  & DISTRIBUTION   & TOTAL SENEGAL                               & SENEGAL      & 2024-03-20 &  2280 &  2300 &  2280 &  2280 &   279 & 73,299,825,000 &  0.92\\\\\n",
       "\t27 & SPHC  & AGRICULTURE    & SAPH COTE D'IVOIRE                          & IVORY COAST  & 2024-03-20 &  2400 &  2450 &  2400 &  2445 &   171 & 61,339,212,000 &  0.77\\\\\n",
       "\t28 & SHEC  & DISTRIBUTION   & VIVO ENERGY COTE D'IVOIRE                   & IVORY COAST  & 2024-03-20 &   765 &   770 &   765 &   770 &   514 & 50,400,000,000 &  0.63\\\\\n",
       "\t29 & SDCC  & PUBLIC SERVICE & SODE COTE D'IVOIRE                          & IVORY COAST  & 2024-03-20 &  4400 &  4400 &  4390 &  4395 &   342 & 39,555,000,000 &  0.50\\\\\n",
       "\t30 & BOAM  & FINANCE        & BANK OF AFRICA MALI                         & MALI         & 2024-03-20 &  1460 &  1465 &  1460 &  1465 &   504 & 27,358,500,000 &  0.34\\\\\n",
       "\t31 & FTSC  & INDUSTRY       & FILTISAC COTE D'IVOIRE                      & IVORY COAST  & 2024-03-20 &  1940 &  1940 &  1850 &  1900 &   289 & 26,797,106,000 &  0.34\\\\\n",
       "\t32 & PRSC  & DISTRIBUTION   & TRACTAFRIC MOTORS COTE D'IVOIRE             & IVORY COAST  & 2024-03-20 &  1905 &  1945 &  1810 &  1945 &    12 & 20,480,000,000 &  0.26\\\\\n",
       "\t33 & ABJC  & DISTRIBUTION   & SERVAIR ABIDJAN  COTE D'IVOIRE              & IVORY COAST  & 2024-03-20 &  1285 &  1285 &  1285 &  1285 &   258 & 13,967,360,000 &  0.18\\\\\n",
       "\t34 & UNXC  & INDUSTRY       & UNIWAX COTE D'IVOIRE                        & IVORY COAST  & 2024-03-20 &   535 &   535 &   530 &   535 &   389 & 11,101,250,000 &  0.14\\\\\n",
       "\t35 & SCRC  & AGRICULTURE    & SUCRIVOIRE COTE D'IVOIRE                    & IVORY COAST  & 2024-03-20 &   445 &   445 &   440 &   440 &    94 & 8,820,000,000 &  0.11\\\\\n",
       "\t36 & NEIC  & INDUSTRY       & NEI-CEDA COTE D'IVOIRE                      & IVORY COAST  & 2024-03-20 &   610 &   670 &   610 &   670 &  2938 & 8,553,102,750 &  0.11\\\\\n",
       "\t37 & BNBC  & DISTRIBUTION   & BERNABE COTE D'IVOIRE                       & IVORY COAST  & 2024-03-20 &  1225 &  1225 &  1225 &  1225 &     1 & 8,147,520,000 &  0.10\\\\\n",
       "\t38 & CABC  & INDUSTRY       & SICABLE COTE D'IVOIRE                       & IVORY COAST  & 2024-03-20 &  1025 &  1025 &  1015 &  1025 &   420 & 6,393,600,000 &  0.08\\\\\n",
       "\t39 & SICC  & AGRICULTURE    & SICOR COTE D'IVOIRE                         & IVORY COAST  & 2024-03-20 &  3650 &  3650 &  3650 &  3650 &    55 & 2,190,000,000 &  0.03\\\\\n",
       "\\end{tabular}\n"
      ],
      "text/markdown": [
       "\n",
       "A data.frame: 39 x 12\n",
       "\n",
       "| <!--/--> | Ticker &lt;chr&gt; | Sector &lt;fct&gt; | Company &lt;chr&gt; | Country &lt;fct&gt; | Date &lt;date&gt; | Open &lt;dbl&gt; | High &lt;dbl&gt; | Low &lt;dbl&gt; | Close &lt;dbl&gt; | Volume &lt;dbl&gt; | Market Cap &lt;formttbl&gt; | Market Percentage &lt;dbl&gt; |\n",
       "|---|---|---|---|---|---|---|---|---|---|---|---|---|\n",
       "| 1 | SNTS  | PUBLIC SERVICE | SONATEL SENEGAL                             | SENEGAL      | 2024-03-20 | 17850 | 17885 | 17860 | 17885 |  1834 | 1,789,500,000,000 | 22.54 |\n",
       "| 2 | ORAC  | PUBLIC SERVICE | ORANGE COTE D'IVOIRE                        | IVORY COAST  | 2024-03-20 | 10800 | 10800 | 10750 | 10750 |  1563 | 1,625,571,226,500 | 20.47 |\n",
       "| 3 | SGBC  | FINANCE        | SOCIETE GENERALE COTE D'IVOIRE              | IVORY COAST  | 2024-03-20 | 17650 | 17750 | 17650 | 17700 |   469 | 549,422,202,600 |  6.92 |\n",
       "| 4 | ECOC  | FINANCE        | ECOBANK COTE D'IVOIRE                       | IVORY COAST  | 2024-03-20 |  6800 |  6800 |  6700 |  6780 |  1342 | 373,793,574,000 |  4.71 |\n",
       "| 5 | ETIT  | FINANCE        | Ecobank Transnational Incorporated TOGO     | TOGO         | 2024-03-20 |    18 |    18 |    17 |    18 | 21960 | 325,513,920,996 |  4.10 |\n",
       "| 6 | SIBC  | FINANCE        | SOCIETE IVOIRIENNE DE BANQUE COTE D'IVOIRE  | IVORY COAST  | 2024-03-20 |  5790 |  5790 |  5600 |  5780 |   446 | 283,250,000,000 |  3.57 |\n",
       "| 7 | CBIBF | FINANCE        | CORIS BANK INTERNATIONAL BURKINA FASO       | BURKINA FASO | 2024-03-20 |  8665 |  8750 |  8665 |  8700 |    62 | 280,000,000,000 |  3.53 |\n",
       "| 8 | BOABF | FINANCE        | BANK OF AFRICA BURKINA FASO                 | BURKINA FASO | 2024-03-20 |  7295 |  7300 |  7200 |  7295 |   678 | 160,380,000,000 |  2.02 |\n",
       "| 9 | ORGT  | FINANCE        | ORAGROUP TOGO                               | TOGO         | 2024-03-20 |  2200 |  2295 |  2200 |  2200 |   252 | 152,713,068,200 |  1.92 |\n",
       "| 10 | ONTBF | PUBLIC SERVICE | ONATEL BURKINA FASO                         | BURKINA FASO | 2024-03-20 |  2115 |  2220 |  2100 |  2210 | 17611 | 150,960,000,000 |  1.90 |\n",
       "| 11 | NTLC  | INDUSTRY       | NESTLE COTE D'IVOIRE                        | IVORY COAST  | 2024-03-20 |  6770 |  6770 |  6560 |  6770 |    32 | 149,195,904,000 |  1.88 |\n",
       "| 12 | CFAC  | DISTRIBUTION   | CFAO MOTORS COTE D'IVOIRE                   | IVORY COAST  | 2024-03-20 |   790 |   800 |   790 |   800 |   618 | 145,097,520,000 |  1.83 |\n",
       "| 13 | BOAC  | FINANCE        | BANK OF AFRICA COTE D'IVOIRE                | IVORY COAST  | 2024-03-20 |  7290 |  7300 |  7200 |  7300 |  1501 | 143,600,000,000 |  1.81 |\n",
       "| 14 | NSBC  | FINANCE        | NSIA BANQUE COTE D'IVOIRE                   | IVORY COAST  | 2024-03-20 |  5370 |  5600 |  5345 |  5600 |   622 | 133,566,688,800 |  1.68 |\n",
       "| 15 | BOAB  | FINANCE        | BANK OF AFRICA BENIN                        | BENIN        | 2024-03-20 |  6450 |  6455 |  6310 |  6455 |  4369 | 131,722,003,380 |  1.66 |\n",
       "| 16 | STBC  | INDUSTRY       | SITAB COTE D'IVOIRE                         | IVORY COAST  | 2024-03-20 |  6980 |  6980 |  6980 |  6980 |     8 | 125,236,125,000 |  1.58 |\n",
       "| 17 | BICC  | FINANCE        | BICI COTE D'IVOIRE                          | IVORY COAST  | 2024-03-20 |  7295 |  7350 |  7300 |  7300 |   133 | 122,500,024,500 |  1.54 |\n",
       "| 18 | PALC  | AGRICULTURE    | PALM COTE D'IVOIRE                          | IVORY COAST  | 2024-03-20 |  6985 |  7000 |  6900 |  7000 |  1344 | 108,215,212,000 |  1.36 |\n",
       "| 19 | TTLC  | DISTRIBUTION   | TOTAL COTE D'IVOIRE                         | IVORY COAST  | 2024-03-20 |  1705 |  1705 |  1655 |  1705 |   391 | 107,034,720,000 |  1.35 |\n",
       "| 20 | CIEC  | PUBLIC SERVICE | CIE COTE D'IVOIRE                           | IVORY COAST  | 2024-03-20 |  1650 |  1695 |  1600 |  1600 | 42010 | 89,600,000,000 |  1.13 |\n",
       "| 21 | SDSC  | TRANSPORT      | BOLLORE TRANSPORT &amp; LOGISTICS COTE D'IVOIRE | IVORY COAST  | 2024-03-20 |  1525 |  1530 |  1500 |  1530 | 20960 | 84,102,538,500 |  1.06 |\n",
       "| 22 | SOGC  | AGRICULTURE    | SOGB COTE D'IVOIRE                          | IVORY COAST  | 2024-03-20 |  3890 |  4000 |  3740 |  3890 |  1032 | 83,923,148,400 |  1.06 |\n",
       "| 23 | SMBC  | INDUSTRY       | SMB COTE D'IVOIRE                           | IVORY COAST  | 2024-03-20 | 10295 | 10295 | 10260 | 10270 |    55 | 80,095,680,000 |  1.01 |\n",
       "| 24 | BOAN  | FINANCE        | BANK OF AFRICA NIGER                        | NIGER        | 2024-03-20 |  5775 |  5790 |  5600 |  5790 |  8578 | 75,335,000,000 |  0.95 |\n",
       "| 25 | BOAS  | FINANCE        | BANK OF AFRICA SENEGAL                      | SENEGAL      | 2024-03-20 |  3200 |  3295 |  3200 |  3295 |  1600 | 74,040,000,000 |  0.93 |\n",
       "| 26 | TTLS  | DISTRIBUTION   | TOTAL SENEGAL                               | SENEGAL      | 2024-03-20 |  2280 |  2300 |  2280 |  2280 |   279 | 73,299,825,000 |  0.92 |\n",
       "| 27 | SPHC  | AGRICULTURE    | SAPH COTE D'IVOIRE                          | IVORY COAST  | 2024-03-20 |  2400 |  2450 |  2400 |  2445 |   171 | 61,339,212,000 |  0.77 |\n",
       "| 28 | SHEC  | DISTRIBUTION   | VIVO ENERGY COTE D'IVOIRE                   | IVORY COAST  | 2024-03-20 |   765 |   770 |   765 |   770 |   514 | 50,400,000,000 |  0.63 |\n",
       "| 29 | SDCC  | PUBLIC SERVICE | SODE COTE D'IVOIRE                          | IVORY COAST  | 2024-03-20 |  4400 |  4400 |  4390 |  4395 |   342 | 39,555,000,000 |  0.50 |\n",
       "| 30 | BOAM  | FINANCE        | BANK OF AFRICA MALI                         | MALI         | 2024-03-20 |  1460 |  1465 |  1460 |  1465 |   504 | 27,358,500,000 |  0.34 |\n",
       "| 31 | FTSC  | INDUSTRY       | FILTISAC COTE D'IVOIRE                      | IVORY COAST  | 2024-03-20 |  1940 |  1940 |  1850 |  1900 |   289 | 26,797,106,000 |  0.34 |\n",
       "| 32 | PRSC  | DISTRIBUTION   | TRACTAFRIC MOTORS COTE D'IVOIRE             | IVORY COAST  | 2024-03-20 |  1905 |  1945 |  1810 |  1945 |    12 | 20,480,000,000 |  0.26 |\n",
       "| 33 | ABJC  | DISTRIBUTION   | SERVAIR ABIDJAN  COTE D'IVOIRE              | IVORY COAST  | 2024-03-20 |  1285 |  1285 |  1285 |  1285 |   258 | 13,967,360,000 |  0.18 |\n",
       "| 34 | UNXC  | INDUSTRY       | UNIWAX COTE D'IVOIRE                        | IVORY COAST  | 2024-03-20 |   535 |   535 |   530 |   535 |   389 | 11,101,250,000 |  0.14 |\n",
       "| 35 | SCRC  | AGRICULTURE    | SUCRIVOIRE COTE D'IVOIRE                    | IVORY COAST  | 2024-03-20 |   445 |   445 |   440 |   440 |    94 | 8,820,000,000 |  0.11 |\n",
       "| 36 | NEIC  | INDUSTRY       | NEI-CEDA COTE D'IVOIRE                      | IVORY COAST  | 2024-03-20 |   610 |   670 |   610 |   670 |  2938 | 8,553,102,750 |  0.11 |\n",
       "| 37 | BNBC  | DISTRIBUTION   | BERNABE COTE D'IVOIRE                       | IVORY COAST  | 2024-03-20 |  1225 |  1225 |  1225 |  1225 |     1 | 8,147,520,000 |  0.10 |\n",
       "| 38 | CABC  | INDUSTRY       | SICABLE COTE D'IVOIRE                       | IVORY COAST  | 2024-03-20 |  1025 |  1025 |  1015 |  1025 |   420 | 6,393,600,000 |  0.08 |\n",
       "| 39 | SICC  | AGRICULTURE    | SICOR COTE D'IVOIRE                         | IVORY COAST  | 2024-03-20 |  3650 |  3650 |  3650 |  3650 |    55 | 2,190,000,000 |  0.03 |\n",
       "\n"
      ],
      "text/plain": [
       "   Ticker Sector         Company                                    \n",
       "1  SNTS   PUBLIC SERVICE SONATEL SENEGAL                            \n",
       "2  ORAC   PUBLIC SERVICE ORANGE COTE D'IVOIRE                       \n",
       "3  SGBC   FINANCE        SOCIETE GENERALE COTE D'IVOIRE             \n",
       "4  ECOC   FINANCE        ECOBANK COTE D'IVOIRE                      \n",
       "5  ETIT   FINANCE        Ecobank Transnational Incorporated TOGO    \n",
       "6  SIBC   FINANCE        SOCIETE IVOIRIENNE DE BANQUE COTE D'IVOIRE \n",
       "7  CBIBF  FINANCE        CORIS BANK INTERNATIONAL BURKINA FASO      \n",
       "8  BOABF  FINANCE        BANK OF AFRICA BURKINA FASO                \n",
       "9  ORGT   FINANCE        ORAGROUP TOGO                              \n",
       "10 ONTBF  PUBLIC SERVICE ONATEL BURKINA FASO                        \n",
       "11 NTLC   INDUSTRY       NESTLE COTE D'IVOIRE                       \n",
       "12 CFAC   DISTRIBUTION   CFAO MOTORS COTE D'IVOIRE                  \n",
       "13 BOAC   FINANCE        BANK OF AFRICA COTE D'IVOIRE               \n",
       "14 NSBC   FINANCE        NSIA BANQUE COTE D'IVOIRE                  \n",
       "15 BOAB   FINANCE        BANK OF AFRICA BENIN                       \n",
       "16 STBC   INDUSTRY       SITAB COTE D'IVOIRE                        \n",
       "17 BICC   FINANCE        BICI COTE D'IVOIRE                         \n",
       "18 PALC   AGRICULTURE    PALM COTE D'IVOIRE                         \n",
       "19 TTLC   DISTRIBUTION   TOTAL COTE D'IVOIRE                        \n",
       "20 CIEC   PUBLIC SERVICE CIE COTE D'IVOIRE                          \n",
       "21 SDSC   TRANSPORT      BOLLORE TRANSPORT & LOGISTICS COTE D'IVOIRE\n",
       "22 SOGC   AGRICULTURE    SOGB COTE D'IVOIRE                         \n",
       "23 SMBC   INDUSTRY       SMB COTE D'IVOIRE                          \n",
       "24 BOAN   FINANCE        BANK OF AFRICA NIGER                       \n",
       "25 BOAS   FINANCE        BANK OF AFRICA SENEGAL                     \n",
       "26 TTLS   DISTRIBUTION   TOTAL SENEGAL                              \n",
       "27 SPHC   AGRICULTURE    SAPH COTE D'IVOIRE                         \n",
       "28 SHEC   DISTRIBUTION   VIVO ENERGY COTE D'IVOIRE                  \n",
       "29 SDCC   PUBLIC SERVICE SODE COTE D'IVOIRE                         \n",
       "30 BOAM   FINANCE        BANK OF AFRICA MALI                        \n",
       "31 FTSC   INDUSTRY       FILTISAC COTE D'IVOIRE                     \n",
       "32 PRSC   DISTRIBUTION   TRACTAFRIC MOTORS COTE D'IVOIRE            \n",
       "33 ABJC   DISTRIBUTION   SERVAIR ABIDJAN  COTE D'IVOIRE             \n",
       "34 UNXC   INDUSTRY       UNIWAX COTE D'IVOIRE                       \n",
       "35 SCRC   AGRICULTURE    SUCRIVOIRE COTE D'IVOIRE                   \n",
       "36 NEIC   INDUSTRY       NEI-CEDA COTE D'IVOIRE                     \n",
       "37 BNBC   DISTRIBUTION   BERNABE COTE D'IVOIRE                      \n",
       "38 CABC   INDUSTRY       SICABLE COTE D'IVOIRE                      \n",
       "39 SICC   AGRICULTURE    SICOR COTE D'IVOIRE                        \n",
       "   Country      Date       Open  High  Low   Close Volume Market Cap       \n",
       "1  SENEGAL      2024-03-20 17850 17885 17860 17885  1834  1,789,500,000,000\n",
       "2  IVORY COAST  2024-03-20 10800 10800 10750 10750  1563  1,625,571,226,500\n",
       "3  IVORY COAST  2024-03-20 17650 17750 17650 17700   469  549,422,202,600  \n",
       "4  IVORY COAST  2024-03-20  6800  6800  6700  6780  1342  373,793,574,000  \n",
       "5  TOGO         2024-03-20    18    18    17    18 21960  325,513,920,996  \n",
       "6  IVORY COAST  2024-03-20  5790  5790  5600  5780   446  283,250,000,000  \n",
       "7  BURKINA FASO 2024-03-20  8665  8750  8665  8700    62  280,000,000,000  \n",
       "8  BURKINA FASO 2024-03-20  7295  7300  7200  7295   678  160,380,000,000  \n",
       "9  TOGO         2024-03-20  2200  2295  2200  2200   252  152,713,068,200  \n",
       "10 BURKINA FASO 2024-03-20  2115  2220  2100  2210 17611  150,960,000,000  \n",
       "11 IVORY COAST  2024-03-20  6770  6770  6560  6770    32  149,195,904,000  \n",
       "12 IVORY COAST  2024-03-20   790   800   790   800   618  145,097,520,000  \n",
       "13 IVORY COAST  2024-03-20  7290  7300  7200  7300  1501  143,600,000,000  \n",
       "14 IVORY COAST  2024-03-20  5370  5600  5345  5600   622  133,566,688,800  \n",
       "15 BENIN        2024-03-20  6450  6455  6310  6455  4369  131,722,003,380  \n",
       "16 IVORY COAST  2024-03-20  6980  6980  6980  6980     8  125,236,125,000  \n",
       "17 IVORY COAST  2024-03-20  7295  7350  7300  7300   133  122,500,024,500  \n",
       "18 IVORY COAST  2024-03-20  6985  7000  6900  7000  1344  108,215,212,000  \n",
       "19 IVORY COAST  2024-03-20  1705  1705  1655  1705   391  107,034,720,000  \n",
       "20 IVORY COAST  2024-03-20  1650  1695  1600  1600 42010  89,600,000,000   \n",
       "21 IVORY COAST  2024-03-20  1525  1530  1500  1530 20960  84,102,538,500   \n",
       "22 IVORY COAST  2024-03-20  3890  4000  3740  3890  1032  83,923,148,400   \n",
       "23 IVORY COAST  2024-03-20 10295 10295 10260 10270    55  80,095,680,000   \n",
       "24 NIGER        2024-03-20  5775  5790  5600  5790  8578  75,335,000,000   \n",
       "25 SENEGAL      2024-03-20  3200  3295  3200  3295  1600  74,040,000,000   \n",
       "26 SENEGAL      2024-03-20  2280  2300  2280  2280   279  73,299,825,000   \n",
       "27 IVORY COAST  2024-03-20  2400  2450  2400  2445   171  61,339,212,000   \n",
       "28 IVORY COAST  2024-03-20   765   770   765   770   514  50,400,000,000   \n",
       "29 IVORY COAST  2024-03-20  4400  4400  4390  4395   342  39,555,000,000   \n",
       "30 MALI         2024-03-20  1460  1465  1460  1465   504  27,358,500,000   \n",
       "31 IVORY COAST  2024-03-20  1940  1940  1850  1900   289  26,797,106,000   \n",
       "32 IVORY COAST  2024-03-20  1905  1945  1810  1945    12  20,480,000,000   \n",
       "33 IVORY COAST  2024-03-20  1285  1285  1285  1285   258  13,967,360,000   \n",
       "34 IVORY COAST  2024-03-20   535   535   530   535   389  11,101,250,000   \n",
       "35 IVORY COAST  2024-03-20   445   445   440   440    94  8,820,000,000    \n",
       "36 IVORY COAST  2024-03-20   610   670   610   670  2938  8,553,102,750    \n",
       "37 IVORY COAST  2024-03-20  1225  1225  1225  1225     1  8,147,520,000    \n",
       "38 IVORY COAST  2024-03-20  1025  1025  1015  1025   420  6,393,600,000    \n",
       "39 IVORY COAST  2024-03-20  3650  3650  3650  3650    55  2,190,000,000    \n",
       "   Market Percentage\n",
       "1  22.54            \n",
       "2  20.47            \n",
       "3   6.92            \n",
       "4   4.71            \n",
       "5   4.10            \n",
       "6   3.57            \n",
       "7   3.53            \n",
       "8   2.02            \n",
       "9   1.92            \n",
       "10  1.90            \n",
       "11  1.88            \n",
       "12  1.83            \n",
       "13  1.81            \n",
       "14  1.68            \n",
       "15  1.66            \n",
       "16  1.58            \n",
       "17  1.54            \n",
       "18  1.36            \n",
       "19  1.35            \n",
       "20  1.13            \n",
       "21  1.06            \n",
       "22  1.06            \n",
       "23  1.01            \n",
       "24  0.95            \n",
       "25  0.93            \n",
       "26  0.92            \n",
       "27  0.77            \n",
       "28  0.63            \n",
       "29  0.50            \n",
       "30  0.34            \n",
       "31  0.34            \n",
       "32  0.26            \n",
       "33  0.18            \n",
       "34  0.14            \n",
       "35  0.11            \n",
       "36  0.11            \n",
       "37  0.10            \n",
       "38  0.08            \n",
       "39  0.03            "
      ]
     },
     "metadata": {},
     "output_type": "display_data"
    }
   ],
   "source": [
    "# Select the first 40 rows of BRVM_columns_desc to create Realtime_BRVM\n",
    "Realtime_BRVM <- head(BRVM_columns_desc, 39)\n",
    "\n",
    "# Print a message indicating the display of Realtime BRVM Data Columns\n",
    "cat('Realtime BRVM Data Columns')\n",
    "\n",
    "# Print the Realtime_BRVM data frame\n",
    "Realtime_BRVM"
   ]
  },
  {
   "cell_type": "code",
   "execution_count": 36,
   "metadata": {
    "vscode": {
     "languageId": "r"
    }
   },
   "outputs": [
    {
     "name": "stdout",
     "output_type": "stream",
     "text": [
      "[1] \"Loading BRVM Indexes\"\n"
     ]
    },
    {
     "data": {
      "text/html": [
       "<table class=\"dataframe\">\n",
       "<caption>A tibble: 11 x 5</caption>\n",
       "<thead>\n",
       "\t<tr><th scope=col>Sector</th><th scope=col>Previous closing</th><th scope=col>Closing</th><th scope=col>Change (%)</th><th scope=col>Year to Date Change</th></tr>\n",
       "\t<tr><th scope=col>&lt;chr&gt;</th><th scope=col>&lt;dbl&gt;</th><th scope=col>&lt;dbl&gt;</th><th scope=col>&lt;dbl&gt;</th><th scope=col>&lt;dbl&gt;</th></tr>\n",
       "</thead>\n",
       "<tbody>\n",
       "\t<tr><td>BRVM-30               </td><td>107.33</td><td>107.19</td><td>-0.13</td><td>-0.36</td></tr>\n",
       "\t<tr><td>BRVM - AGRICULTURE    </td><td>174.28</td><td>173.58</td><td>-0.40</td><td> 2.09</td></tr>\n",
       "\t<tr><td>BRVM - OTHER SECTOR   </td><td>993.28</td><td>943.92</td><td>-4.97</td><td> 0.00</td></tr>\n",
       "\t<tr><td>BRVM - COMPOSITE      </td><td>213.80</td><td>213.43</td><td>-0.17</td><td>-0.36</td></tr>\n",
       "\t<tr><td>BRVM - DISTRIBUTION   </td><td>313.06</td><td>313.91</td><td> 0.27</td><td> 1.12</td></tr>\n",
       "\t<tr><td>BRVM - FINANCE        </td><td> 86.82</td><td> 86.37</td><td>-0.52</td><td> 0.45</td></tr>\n",
       "\t<tr><td>BRVM - INDUSTRY       </td><td>102.91</td><td>101.83</td><td>-1.05</td><td>-0.65</td></tr>\n",
       "\t<tr><td>BRVM - PRESTIGE       </td><td> 99.72</td><td> 99.55</td><td>-0.17</td><td> 1.05</td></tr>\n",
       "\t<tr><td>BRVM - PRINCIPAL      </td><td>104.02</td><td>103.77</td><td>-0.24</td><td>-1.06</td></tr>\n",
       "\t<tr><td>BRVM - PUBLIC SERVICES</td><td>524.94</td><td>526.04</td><td> 0.21</td><td>-1.18</td></tr>\n",
       "\t<tr><td>BRVM - TRANSPORT      </td><td>373.92</td><td>377.50</td><td> 0.96</td><td>-3.48</td></tr>\n",
       "</tbody>\n",
       "</table>\n"
      ],
      "text/latex": [
       "A tibble: 11 x 5\n",
       "\\begin{tabular}{lllll}\n",
       " Sector & Previous closing & Closing & Change (\\%) & Year to Date Change\\\\\n",
       " <chr> & <dbl> & <dbl> & <dbl> & <dbl>\\\\\n",
       "\\hline\n",
       "\t BRVM-30                & 107.33 & 107.19 & -0.13 & -0.36\\\\\n",
       "\t BRVM - AGRICULTURE     & 174.28 & 173.58 & -0.40 &  2.09\\\\\n",
       "\t BRVM - OTHER SECTOR    & 993.28 & 943.92 & -4.97 &  0.00\\\\\n",
       "\t BRVM - COMPOSITE       & 213.80 & 213.43 & -0.17 & -0.36\\\\\n",
       "\t BRVM - DISTRIBUTION    & 313.06 & 313.91 &  0.27 &  1.12\\\\\n",
       "\t BRVM - FINANCE         &  86.82 &  86.37 & -0.52 &  0.45\\\\\n",
       "\t BRVM - INDUSTRY        & 102.91 & 101.83 & -1.05 & -0.65\\\\\n",
       "\t BRVM - PRESTIGE        &  99.72 &  99.55 & -0.17 &  1.05\\\\\n",
       "\t BRVM - PRINCIPAL       & 104.02 & 103.77 & -0.24 & -1.06\\\\\n",
       "\t BRVM - PUBLIC SERVICES & 524.94 & 526.04 &  0.21 & -1.18\\\\\n",
       "\t BRVM - TRANSPORT       & 373.92 & 377.50 &  0.96 & -3.48\\\\\n",
       "\\end{tabular}\n"
      ],
      "text/markdown": [
       "\n",
       "A tibble: 11 x 5\n",
       "\n",
       "| Sector &lt;chr&gt; | Previous closing &lt;dbl&gt; | Closing &lt;dbl&gt; | Change (%) &lt;dbl&gt; | Year to Date Change &lt;dbl&gt; |\n",
       "|---|---|---|---|---|\n",
       "| BRVM-30                | 107.33 | 107.19 | -0.13 | -0.36 |\n",
       "| BRVM - AGRICULTURE     | 174.28 | 173.58 | -0.40 |  2.09 |\n",
       "| BRVM - OTHER SECTOR    | 993.28 | 943.92 | -4.97 |  0.00 |\n",
       "| BRVM - COMPOSITE       | 213.80 | 213.43 | -0.17 | -0.36 |\n",
       "| BRVM - DISTRIBUTION    | 313.06 | 313.91 |  0.27 |  1.12 |\n",
       "| BRVM - FINANCE         |  86.82 |  86.37 | -0.52 |  0.45 |\n",
       "| BRVM - INDUSTRY        | 102.91 | 101.83 | -1.05 | -0.65 |\n",
       "| BRVM - PRESTIGE        |  99.72 |  99.55 | -0.17 |  1.05 |\n",
       "| BRVM - PRINCIPAL       | 104.02 | 103.77 | -0.24 | -1.06 |\n",
       "| BRVM - PUBLIC SERVICES | 524.94 | 526.04 |  0.21 | -1.18 |\n",
       "| BRVM - TRANSPORT       | 373.92 | 377.50 |  0.96 | -3.48 |\n",
       "\n"
      ],
      "text/plain": [
       "   Sector                 Previous closing Closing Change (%)\n",
       "1  BRVM-30                107.33           107.19  -0.13     \n",
       "2  BRVM - AGRICULTURE     174.28           173.58  -0.40     \n",
       "3  BRVM - OTHER SECTOR    993.28           943.92  -4.97     \n",
       "4  BRVM - COMPOSITE       213.80           213.43  -0.17     \n",
       "5  BRVM - DISTRIBUTION    313.06           313.91   0.27     \n",
       "6  BRVM - FINANCE          86.82            86.37  -0.52     \n",
       "7  BRVM - INDUSTRY        102.91           101.83  -1.05     \n",
       "8  BRVM - PRESTIGE         99.72            99.55  -0.17     \n",
       "9  BRVM - PRINCIPAL       104.02           103.77  -0.24     \n",
       "10 BRVM - PUBLIC SERVICES 524.94           526.04   0.21     \n",
       "11 BRVM - TRANSPORT       373.92           377.50   0.96     \n",
       "   Year to Date Change\n",
       "1  -0.36              \n",
       "2   2.09              \n",
       "3   0.00              \n",
       "4  -0.36              \n",
       "5   1.12              \n",
       "6   0.45              \n",
       "7  -0.65              \n",
       "8   1.05              \n",
       "9  -1.06              \n",
       "10 -1.18              \n",
       "11 -3.48              "
      ]
     },
     "metadata": {},
     "output_type": "display_data"
    }
   ],
   "source": [
    "# Retrieve BRVM index data and store it in brvm_sector\n",
    "brvm_sector <- BRVM_index()\n",
    "\n",
    "# Rename the column \"Indexes\" to \"Sector\" in the brvm_sector dataframe\n",
    "brvm_sector <- brvm_sector %>%\n",
    "  rename(Sector = Indexes)\n",
    "\n",
    "# Print a message indicating that BRVM Indexes are being loaded\n",
    "print(\"Loading BRVM Indexes\")\n",
    "\n",
    "# Print the brvm_sector dataframe\n",
    "brvm_sector"
   ]
  },
  {
   "cell_type": "code",
   "execution_count": 39,
   "metadata": {
    "vscode": {
     "languageId": "r"
    }
   },
   "outputs": [],
   "source": [
    "# Exporting DataFrame into an Excel file for BRVM Sectors\n",
    "\n",
    "# Write the DataFrame to an Excel file\n",
    "\n",
    "write.xlsx(brvm_sector, \"/Users/quantumsphere/Desktop/BRVM Project/BRVM-Analyzer/BRVM Excel R files/BRVM_Sectors.xlsx\", overwrite = TRUE)"
   ]
  },
  {
   "cell_type": "code",
   "execution_count": 40,
   "metadata": {
    "vscode": {
     "languageId": "r"
    }
   },
   "outputs": [],
   "source": [
    "# Convert the Date column to character type\n",
    "Realtime_BRVM$Date <- as.character(Realtime_BRVM$Date)\n",
    "\n",
    "# Export the DataFrame to an Excel file\n",
    "write.xlsx(Realtime_BRVM, \"/Users/quantumsphere/Desktop/BRVM Project/BRVM-Analyzer/BRVM Excel R files/Realtime_BRVM.xlsx\", overwrite = TRUE)"
   ]
  },
  {
   "cell_type": "code",
   "execution_count": 41,
   "metadata": {
    "vscode": {
     "languageId": "r"
    }
   },
   "outputs": [
    {
     "name": "stdout",
     "output_type": "stream",
     "text": [
      "Existing file removed.\n",
      "New CSV file written successfully.\n"
     ]
    }
   ],
   "source": [
    "# Define the file path for the CSV file\n",
    "file_path <- \"/Users/quantumsphere/Desktop/BRVM Project/BRVM-Analyzer/BRVM Tableau R files/BRVM_Historical_TL.csv\"\n",
    "\n",
    "# Check if the file already exists\n",
    "if (file.exists(file_path)) {\n",
    "  # If the file exists, remove it\n",
    "  file.remove(file_path)\n",
    "\n",
    "  # Display message indicating the existing file is removed\n",
    "  cat(\"Existing file removed.\\n\")\n",
    "}\n",
    "\n",
    "# Write the new CSV file\n",
    "write.csv(BRVM_columns_desc, file = file_path, row.names = FALSE)\n",
    "\n",
    "# Display message indicating the new CSV file is written\n",
    "cat(\"New CSV file written successfully.\\n\")"
   ]
  },
  {
   "cell_type": "code",
   "execution_count": 42,
   "metadata": {
    "vscode": {
     "languageId": "r"
    }
   },
   "outputs": [
    {
     "name": "stdout",
     "output_type": "stream",
     "text": [
      "Existing file removed.\n",
      "New CSV file written successfully.\n"
     ]
    }
   ],
   "source": [
    "# Define the file path for the CSV file\n",
    "file_path <- \"/Users/quantumsphere/Desktop/BRVM Project/BRVM-Analyzer/BRVM Tableau R files/BRVM_Sectors_TL.csv\"\n",
    "\n",
    "# Check if the file already exists\n",
    "if (file.exists(file_path)) {\n",
    "  # If the file exists, remove it\n",
    "  file.remove(file_path)\n",
    "\n",
    "  # Display message indicating the existing file is removed\n",
    "  cat(\"Existing file removed.\\n\")\n",
    "}\n",
    "\n",
    "# Write the new CSV file\n",
    "write.csv(brvm_sector, file = file_path, row.names = FALSE)\n",
    "\n",
    "# Display message indicating the new CSV file is written\n",
    "cat(\"New CSV file written successfully.\\n\")"
   ]
  }
 ],
 "metadata": {
  "kernelspec": {
   "display_name": "R",
   "language": "R",
   "name": "ir"
  },
  "language_info": {
   "codemirror_mode": "r",
   "file_extension": ".r",
   "mimetype": "text/x-r-source",
   "name": "R",
   "pygments_lexer": "r",
   "version": "4.3.3"
  }
 },
 "nbformat": 4,
 "nbformat_minor": 2
}
